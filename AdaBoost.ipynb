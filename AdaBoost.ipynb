{
  "cells": [
    {
      "cell_type": "markdown",
      "metadata": {
        "id": "view-in-github",
        "colab_type": "text"
      },
      "source": [
        "<a href=\"https://colab.research.google.com/github/AlbertoCampini/AAUT/blob/master/AdaBoost.ipynb\" target=\"_parent\"><img src=\"https://colab.research.google.com/assets/colab-badge.svg\" alt=\"Open In Colab\"/></a>"
      ]
    },
    {
      "cell_type": "code",
      "execution_count": null,
      "metadata": {
        "id": "JCuLhemhVg4m"
      },
      "outputs": [],
      "source": [
        "import numpy as np\n",
        "import math\n",
        "from copy import deepcopy\n",
        "import sklearn.datasets\n",
        "from sklearn.svm import SVC"
      ]
    },
    {
      "source": [
        "# Dataset\n",
        "\n",
        "We import the dataset from Hastie & Tibshirani book. \n",
        "This is an artificially generated binary classification problem. Labels are in the set $\\{-1,+1\\}$."
      ],
      "cell_type": "markdown",
      "metadata": {
        "id": "51B55WkYVg4r"
      }
    },
    {
      "cell_type": "code",
      "execution_count": null,
      "metadata": {
        "id": "8DYYFukFVg4t"
      },
      "outputs": [],
      "source": [
        "X,y = sklearn.datasets.make_hastie_10_2()\n",
        "X_train = X[0:8000,:]\n",
        "y_train = y[0:8000]\n",
        "X_test = X[8000:,:]\n",
        "y_test = y[8000:]"
      ]
    },
    {
      "cell_type": "markdown",
      "metadata": {
        "id": "4spuD7SsVg4u"
      },
      "source": [
        "# Adaboost implementation\n",
        "\n",
        "Here we implement the Adaboost algorith. We shall assume that:\n",
        "- that the problem is a binary classification problem with labels in $\\{-1, +1\\}$.\n",
        "- that the weakModel can fit a weighted sample set by means of the call `weakModel.fit(X,y,sample_weight=w)` where `w` is a vector of length $n=|X|=|y|$."
      ]
    },
    {
      "cell_type": "code",
      "execution_count": null,
      "metadata": {
        "id": "Q-0XCi21Vg4u"
      },
      "outputs": [],
      "source": [
        "class AdaBoost:\n",
        "    def __init__(self, weakModel, T):\n",
        "        self.T=T\n",
        "        self.weakModel=weakModel\n",
        "        self.classifiers=[]\n",
        "        self.alphas=[]\n",
        "        self.wl_errors=[]\n",
        "        self.ens_errors=[]\n",
        "\n",
        "    def train_weak_model(self,X,y,w):\n",
        "         result=deepcopy(self.weakModel)\n",
        "         result.fit(X,y,sample_weight=w)\n",
        "         return result      \n",
        "    def weighted_error(self, y,y_,w):\n",
        "         return np.sum(w[y!=y_])\n",
        "    def fit(self, X, y):\n",
        "        n=len(y)\n",
        "        w=np.ones(n)/n\n",
        "\n",
        "        ensamble_pred=np.zeros(n)\n",
        "        for t in range(self.T):\n",
        "          mt= self.train_weak_model(X,y,w)\n",
        "          y_=mt.predict(X)\n",
        "          error=self.weighted_error(y,y_,w)\n",
        "          if(error>=0.5):\n",
        "            raise ValueError(\"Weak Learner failed\")\n",
        "          alpha_t=0.5*math.log((1-error)/error)\n",
        "          self.classifiers.append(mt)\n",
        "          self.alphas.append(alpha_t)\n",
        "\n",
        "\n",
        "\n",
        "          w = w* np.exp(-alpha_t*y*y_)\n",
        "          w = w / np.sum(w)\n",
        "\n",
        "\n",
        "          ensamble_pred += alpha_t*y_\n",
        "          enamble_err = np.sum(np.sign(ensamble_pred)!=y)/n\n",
        "          self.ens_errors.append(enamble_err)\n",
        "          self.wl_errors.append(error)\n",
        "\n",
        "          if t>1 and t%10==0:\n",
        "              print(f\"step{t} et {error} ensambleError {enamble_err}\")\n",
        "        return self\n",
        "\n",
        "    def predict(self, X):\n",
        "        predictions=np.array([cl.predict(X) for cl in self.classifiers])\n",
        "        return np.sign(np.array(self.alphas).dot(predictions))"
      ]
    },
    {
      "source": [
        "# Testing with an SVM"
      ],
      "cell_type": "markdown",
      "metadata": {
        "id": "sd5v1T0lVg4v"
      }
    },
    {
      "cell_type": "markdown",
      "metadata": {
        "id": "qN7ZM4RoVg4w"
      },
      "source": [
        "Let us now see how our iplementation of AdaBoost performs on the dataset we loaded above. In this experiment we want the weak learning algorithm $\\mathcal{A}$ to be good, but not too much. An SVM with a polynomial kernel of degre 3 works fine for our needs.\n",
        "\n",
        "The SVC implementation provided by sklearn does not work well when weights are normalized. The following code simply \"denormalize\" weights befor calling into SVC implementation."
      ]
    },
    {
      "cell_type": "code",
      "execution_count": null,
      "metadata": {
        "id": "DbEGE-VHVg4w"
      },
      "outputs": [],
      "source": [
        "    class SVC_:\n",
        "        def __init__(self, kernel=\"rbf\", degree=\"3\"):\n",
        "            self.svc = SVC(kernel=kernel, degree=degree)\n",
        "\n",
        "        def fit(self, X,y,sample_weight=None):\n",
        "            if sample_weight is not None:\n",
        "                sample_weight = sample_weight * len(X)\n",
        "\n",
        "            self.svc.fit(X,y,sample_weight=sample_weight)\n",
        "            return self\n",
        "\n",
        "        def predict(self, X):\n",
        "            return self.svc.predict(X)"
      ]
    },
    {
      "cell_type": "code",
      "execution_count": null,
      "metadata": {
        "colab": {
          "base_uri": "https://localhost:8080/"
        },
        "id": "JrwQmykHVg4x",
        "outputId": "300553ff-f802-46cc-c926-f378b446b1a3"
      },
      "outputs": [
        {
          "output_type": "stream",
          "name": "stdout",
          "text": [
            "step10 et 0.37791670430095603 ensableerror 0.21325\n",
            "step20 et 0.4009203786340835 ensableerror 0.169125\n",
            "step30 et 0.42197274291187586 ensableerror 0.15375\n",
            "step40 et 0.44068639350885697 ensableerror 0.14675\n",
            "step50 et 0.45625595429133253 ensableerror 0.14675\n",
            "step60 et 0.46262572191993645 ensableerror 0.138\n",
            "step70 et 0.4456646437694925 ensableerror 0.136875\n",
            "step80 et 0.456008744671691 ensableerror 0.131875\n",
            "step90 et 0.46559769547841434 ensableerror 0.12825\n"
          ]
        }
      ],
      "source": [
        "weakModel = SVC_(kernel=\"poly\", degree=3)\n",
        "adaboost = AdaBoost(weakModel, 100).fit(X_train,y_train)\n",
        "y_train_ = adaboost.predict(X_train)\n",
        "y_test_ = adaboost.predict(X_test)"
      ]
    },
    {
      "cell_type": "code",
      "execution_count": null,
      "metadata": {
        "colab": {
          "base_uri": "https://localhost:8080/"
        },
        "id": "4u0qtBNNVg4y",
        "outputId": "50cf41b5-1e26-4287-9702-0706c1659662"
      },
      "outputs": [
        {
          "output_type": "execute_result",
          "data": {
            "text/plain": [
              "0.8375"
            ]
          },
          "metadata": {},
          "execution_count": 67
        }
      ],
      "source": [
        "sum(y_test==y_test_)/len(y_test)"
      ]
    },
    {
      "cell_type": "code",
      "source": [
        "import matplotlib.pyplot as plt\n",
        "\n",
        "plt.plot(adaboost.wl_errors, label=\"eps\")\n",
        "plt.plot(adaboost.ens_errors, label=\"ens\")\n"
      ],
      "metadata": {
        "colab": {
          "base_uri": "https://localhost:8080/",
          "height": 282
        },
        "id": "DTy6-jJ9fItK",
        "outputId": "7a9eaa09-6f70-4fc3-c71b-8e3306760b33"
      },
      "execution_count": null,
      "outputs": [
        {
          "output_type": "execute_result",
          "data": {
            "text/plain": [
              "[<matplotlib.lines.Line2D at 0x7f33fa2eb280>]"
            ]
          },
          "metadata": {},
          "execution_count": 68
        },
        {
          "output_type": "display_data",
          "data": {
            "text/plain": [
              "<Figure size 432x288 with 1 Axes>"
            ],
            "image/png": "[encoded data removed]"
          },
          "metadata": {
            "needs_background": "light"
          }
        }
      ]
    },
    {
      "cell_type": "markdown",
      "metadata": {
        "id": "1bl-EA1ZVg4z"
      },
      "source": [
        "# Testing on the weakest of the weak learners"
      ]
    },
    {
      "cell_type": "markdown",
      "metadata": {
        "id": "RM2T2ihVVg4z"
      },
      "source": [
        "We now want to experiment with a VERY weak learner. The weak learner works as follows:\n",
        "\n",
        "- it creates a random linear model by generating the needed weight vector $\\mathbf{w}$ at random; each weight shall be sampled from U(-1,1);\n",
        "- it evaluates the weighted loss $\\epsilon_t$ on the given dataset and flip the linear model if $\\epsilon_t > 0.5$\n",
        "- at prediction time it predicts +1 if $\\mathbf{x} \\cdot \\mathbf{w} > 0$ it predicts -1 otherwise."
      ]
    },
    {
      "cell_type": "code",
      "execution_count": null,
      "metadata": {
        "id": "pOVZL912Vg40"
      },
      "outputs": [],
      "source": [
        "class RandomLinearModel:\n",
        "    def loss(self, y, y_, w):\n",
        "        return np.sum(w[y!=y_])\n",
        "        \n",
        "    def fit(self,X,y,sample_weight=None):\n",
        "        self.colWeight=(np.random.rand(X.shape[1]) -.5)*2.0 \n",
        "        y_=self.predict(X)\n",
        "        if(self.loss(y,y_,sample_weight)>=0.5):\n",
        "          self.colWeight=-self.colWeight\n",
        "        return self\n",
        "\n",
        "    def predict(self,X):\n",
        "        return np.sign(X @ self.colWeight)"
      ]
    },
    {
      "cell_type": "markdown",
      "metadata": {
        "id": "Sd76LpYjVg40"
      },
      "source": [
        "Let us now learn an AdaBoost model using the RandomLinearModel weak learner printing every $K$ iterations the weighted error and the current error of the ensemble. Evaluate the training and test error of the final ensemble model."
      ]
    },
    {
      "cell_type": "code",
      "execution_count": null,
      "metadata": {
        "id": "hBdQHohkVg41"
      },
      "outputs": [],
      "source": [
        "rs = RandomLinearModel()\n",
        "a = AdaBoost(rs,30000)\n",
        "a.fit(X_train,y_train)\n",
        "\n",
        "y_train_ = a.predict(X_train)\n",
        "y_test_ = a.predict(X_test)"
      ]
    },
    {
      "cell_type": "code",
      "source": [
        "print(sum(y_test==y_test_)/len(y_test))\n",
        "print(sum(y_train==y_train_)/len(y_train))"
      ],
      "metadata": {
        "colab": {
          "base_uri": "https://localhost:8080/"
        },
        "id": "FgHS7Hf4kFUe",
        "outputId": "024cf4b7-1571-4c8a-aae9-7d6a0a0eee1c"
      },
      "execution_count": null,
      "outputs": [
        {
          "output_type": "stream",
          "name": "stdout",
          "text": [
            "0.51875\n",
            "0.960375\n"
          ]
        }
      ]
    },
    {
      "cell_type": "code",
      "source": [
        "import matplotlib.pyplot as plt\n",
        "\n",
        "plt.plot(a.wl_errors, label=\"eps\")\n",
        "plt.plot(a.ens_errors, label=\"ens\")\n"
      ],
      "metadata": {
        "colab": {
          "base_uri": "https://localhost:8080/",
          "height": 282
        },
        "id": "p-KfN9J6j2jC",
        "outputId": "3f4b6aef-b91d-4216-92c3-4699ad117214"
      },
      "execution_count": null,
      "outputs": [
        {
          "output_type": "execute_result",
          "data": {
            "text/plain": [
              "[<matplotlib.lines.Line2D at 0x7f33fa38bfa0>]"
            ]
          },
          "metadata": {},
          "execution_count": 65
        },
        {
          "output_type": "display_data",
          "data": {
            "text/plain": [
              "<Figure size 432x288 with 1 Axes>"
            ],
            "image/png": "[encoded data removed]"
          },
          "metadata": {
            "needs_background": "light"
          }
        }
      ]
    }
  ],
  "metadata": {
    "anaconda-cloud": {},
    "kernelspec": {
      "display_name": "Python 3",
      "language": "python",
      "name": "python3"
    },
    "language_info": {
      "codemirror_mode": {
        "name": "ipython",
        "version": 3
      },
      "file_extension": ".py",
      "mimetype": "text/x-python",
      "name": "python",
      "nbconvert_exporter": "python",
      "pygments_lexer": "ipython3",
      "version": "3.9.1-final"
    },
    "colab": {
      "provenance": [],
      "include_colab_link": true
    }
  },
  "nbformat": 4,
  "nbformat_minor": 0
}