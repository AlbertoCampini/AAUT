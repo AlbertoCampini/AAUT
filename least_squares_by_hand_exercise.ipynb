{
  "cells": [
    {
      "cell_type": "markdown",
      "metadata": {
        "id": "view-in-github",
        "colab_type": "text"
      },
      "source": [
        "<a href=\"https://colab.research.google.com/github/AlbertoCampini/AAUT/blob/master/least_squares_by_hand_exercise.ipynb\" target=\"_parent\"><img src=\"https://colab.research.google.com/assets/colab-badge.svg\" alt=\"Open In Colab\"/></a>"
      ]
    },
    {
      "cell_type": "markdown",
      "metadata": {
        "id": "1mrdnPalr8vW"
      },
      "source": [
        "# Exercises on least squares\n",
        "\n",
        "In this exercise, we will implement the least squares method using the closed form formula we derived in the lecture. We will also use sklearn PolynomialFeatures to solve non linear problems with the least squares method and see how the computation time grows when the degree of the polynomial grows."
      ]
    },
    {
      "cell_type": "code",
      "execution_count": null,
      "metadata": {
        "id": "AU7U7Rr7r8vc"
      },
      "outputs": [],
      "source": [
        "import numpy as np\n",
        "import matplotlib.pyplot as plt\n",
        "from sklearn.preprocessing import PolynomialFeatures"
      ]
    },
    {
      "cell_type": "markdown",
      "metadata": {
        "id": "PxQdGUuvr8ve"
      },
      "source": [
        "# Creating the dataset\n",
        "\n",
        "Let us start by creating a dataset representing a noisy cubic polynomial with equation $-0.2 x^3 + \\mu$, where $\\mu \\sim \\mathcal{N}(0, 4)$"
      ]
    },
    {
      "cell_type": "code",
      "execution_count": null,
      "metadata": {
        "id": "LAye0nQOr8vf"
      },
      "outputs": [],
      "source": [
        "np.random.seed(42)\n",
        "X = (np.random.rand(100,1) - 0.5) * 10\n",
        "y = -0.2 * X**3 + np.random.normal(loc=0, scale=2, size=[100,1])"
      ]
    },
    {
      "cell_type": "markdown",
      "metadata": {
        "id": "uUZLXaBrr8vg"
      },
      "source": [
        "Let's plot it"
      ]
    },
    {
      "cell_type": "code",
      "execution_count": null,
      "metadata": {
        "colab": {
          "base_uri": "https://localhost:8080/",
          "height": 265
        },
        "id": "tGMIrk5Zr8vh",
        "outputId": "2f62c756-992f-4686-ba3e-40f3de107b00"
      },
      "outputs": [
        {
          "output_type": "display_data",
          "data": {
            "text/plain": [
              "<Figure size 432x288 with 1 Axes>"
            ],
            "image/png": "[encoded data removed]"
          },
          "metadata": {
            "needs_background": "light"
          }
        }
      ],
      "source": [
        "plt.scatter(X,y)\n",
        "plt.show()"
      ]
    },
    {
      "cell_type": "markdown",
      "metadata": {
        "id": "O6_eUhP0r8vj"
      },
      "source": [
        "\n",
        "\n",
        "We need the data to be in homogeneous coordinates..."
      ]
    },
    {
      "cell_type": "code",
      "execution_count": null,
      "metadata": {
        "id": "NwvTnLkYr8vk"
      },
      "outputs": [],
      "source": [
        "XX = np.concatenate([X, np.ones(shape=[len(X), 1])], axis=1)\n",
        "print(XX)"
      ]
    },
    {
      "cell_type": "markdown",
      "metadata": {
        "id": "JFodlrhIr8vk"
      },
      "source": [
        "# Define the least square \"solver\""
      ]
    },
    {
      "cell_type": "markdown",
      "metadata": {
        "id": "gw-miK7cr8vm"
      },
      "source": [
        "$w = (X^T X)^{-1} X^T y$"
      ]
    },
    {
      "cell_type": "code",
      "execution_count": null,
      "metadata": {
        "id": "1BewPSs_r8vn"
      },
      "outputs": [],
      "source": [
        "def least_squares(X,y):\n",
        "    Xpseusdo=np.linalg.pinv(X)\n",
        "    return  np.matmul(Xpseusdo,y)"
      ]
    },
    {
      "cell_type": "markdown",
      "metadata": {
        "id": "hOb0usjvr8vn"
      },
      "source": [
        "Apply it to our data"
      ]
    },
    {
      "cell_type": "code",
      "execution_count": null,
      "metadata": {
        "id": "NmdXxNYmr8vo"
      },
      "outputs": [],
      "source": [
        "ww = least_squares(XX, y)"
      ]
    },
    {
      "cell_type": "code",
      "execution_count": null,
      "metadata": {
        "colab": {
          "base_uri": "https://localhost:8080/"
        },
        "id": "UpvbwV_Tr8vo",
        "outputId": "4c305263-27b8-4ee2-f4a3-32e3e67e98c9"
      },
      "outputs": [
        {
          "output_type": "execute_result",
          "data": {
            "text/plain": [
              "array([[-3.10224715],\n",
              "       [ 0.06642012]])"
            ]
          },
          "metadata": {},
          "execution_count": 80
        }
      ],
      "source": [
        "ww"
      ]
    },
    {
      "cell_type": "markdown",
      "metadata": {
        "id": "2Yj8x4ysr8vp"
      },
      "source": [
        "\n",
        "\n",
        "It's time to plot results, use matplotlib to plot the data and the fitted curve.\n",
        "\n",
        "**Hint**: use np.linspace to create a range of values for x and then plot the x,y pairs (where y is the predicted value)."
      ]
    },
    {
      "cell_type": "code",
      "execution_count": null,
      "metadata": {
        "id": "2UbWEFp6r8vp"
      },
      "outputs": [],
      "source": [
        "xs = np.linspace(-5, 5)\n",
        "ys = ww[0] * xs + ww[1]"
      ]
    },
    {
      "cell_type": "code",
      "execution_count": null,
      "metadata": {
        "colab": {
          "base_uri": "https://localhost:8080/",
          "height": 265
        },
        "id": "oGgibUlOr8vq",
        "outputId": "5febbe8e-f5f1-4028-a6a8-005faf909323"
      },
      "outputs": [
        {
          "output_type": "display_data",
          "data": {
            "text/plain": [
              "<Figure size 432x288 with 1 Axes>"
            ],
            "image/png": "[encoded data removed]"
          },
          "metadata": {
            "needs_background": "light"
          }
        }
      ],
      "source": [
        "plt.scatter(X,y)\n",
        "plt.plot(xs, ys, c='r', lw=2)\n",
        "plt.show()"
      ]
    },
    {
      "cell_type": "markdown",
      "metadata": {
        "id": "fLmpJmUHr8vq"
      },
      "source": [
        "# Solving a non-linear problem using the \"slow\" kernel trick\n",
        "\n",
        "Now solve the same problem, but using the PolynomialFeatures class to preprocess our data so that we can fit a degree 3 polynomial."
      ]
    },
    {
      "cell_type": "code",
      "execution_count": null,
      "metadata": {
        "id": "xxutf00nr8vr"
      },
      "outputs": [],
      "source": [
        "# instantiate in polyfeatures the class for doing the polynomial transformation\n",
        "polyfeatures = PolynomialFeatures(3)\n",
        "\n",
        "# transform the data and put the result into polyX\n",
        "polyX = polyfeatures.fit_transform(X)"
      ]
    },
    {
      "cell_type": "markdown",
      "metadata": {
        "id": "dGwbAZnBr8vr"
      },
      "source": [
        "Now we can use our `least_squares` solver to find a solution in the transformed space..."
      ]
    },
    {
      "cell_type": "code",
      "execution_count": null,
      "metadata": {
        "id": "ys7Lr9Tdr8vs"
      },
      "outputs": [],
      "source": [
        "polyww = least_squares(polyX, y)\n"
      ]
    },
    {
      "cell_type": "markdown",
      "metadata": {
        "id": "70nT1CJkr8vs"
      },
      "source": [
        "Generate new data to plot the solution (again, using `linspace` to generate points in the interval $[-5,5]$)."
      ]
    },
    {
      "cell_type": "code",
      "execution_count": null,
      "metadata": {
        "id": "h63RB_J6r8vt"
      },
      "outputs": [],
      "source": [
        "xs = np.linspace(-5, 5, 100).reshape(-1,1)\n",
        "polyxs = polyfeatures.transform(xs)\n",
        "polyys = polyxs @ polyww\n"
      ]
    },
    {
      "cell_type": "markdown",
      "metadata": {
        "id": "FdWJOgHJr8vt"
      },
      "source": [
        "We can now plot the data and our solution"
      ]
    },
    {
      "cell_type": "code",
      "execution_count": null,
      "metadata": {
        "colab": {
          "base_uri": "https://localhost:8080/",
          "height": 265
        },
        "id": "8qu0CM_wr8vt",
        "outputId": "36c2065f-ccc9-469e-f004-3c4429e9745a"
      },
      "outputs": [
        {
          "output_type": "display_data",
          "data": {
            "text/plain": [
              "<Figure size 432x288 with 1 Axes>"
            ],
            "image/png": "[encoded data removed]"
          },
          "metadata": {
            "needs_background": "light"
          }
        }
      ],
      "source": [
        "plt.scatter(X,y)\n",
        "plt.plot(xs, polyys, c='r',lw=2)\n",
        "plt.show()"
      ]
    },
    {
      "cell_type": "markdown",
      "metadata": {
        "id": "0vAg_tfLr8vu"
      },
      "source": [
        "# This kernel trick is slow!\n",
        "\n",
        "What we just did is a poor version of the kernel trick. We are actually computing the mapping, which becomes very slow as the degree of the polynomial increases. Let's check how long it takes to compute the mapping for various degrees.\n",
        "\n",
        "For this eperiment, we will use a dataset with 13 features and will grow the degree of the polynomial from 1 to 13."
      ]
    },
    {
      "cell_type": "code",
      "execution_count": null,
      "metadata": {
        "id": "PM-7uautr8vu"
      },
      "outputs": [],
      "source": [
        "X = np.random.rand(100, 13)"
      ]
    },
    {
      "cell_type": "code",
      "execution_count": null,
      "metadata": {
        "colab": {
          "base_uri": "https://localhost:8080/"
        },
        "id": "P6WJdxLNr8vu",
        "outputId": "19e48a78-83dc-4b97-9438-48aaa6911f36"
      },
      "outputs": [
        {
          "output_type": "stream",
          "name": "stdout",
          "text": [
            "1 \t Num features         14 Time 0.0021s\n",
            "2 \t Num features        105 Time 0.0019s\n",
            "3 \t Num features        560 Time 0.0044s\n",
            "4 \t Num features       2380 Time 0.0023s\n",
            "5 \t Num features       8568 Time 0.0062s\n",
            "6 \t Num features      27132 Time 0.0146s\n",
            "7 \t Num features      77520 Time 0.0318s\n",
            "8 \t Num features     203490 Time 0.0768s\n",
            "9 \t Num features     497420 Time 0.1857s\n",
            "10 \t Num features    1144066 Time 0.4178s\n",
            "11 \t Num features    2496144 Time 1.0427s\n",
            "12 \t Num features    5200300 Time 1.7154s\n"
          ]
        }
      ],
      "source": [
        "import time\n",
        "\n",
        "results_degrees = []\n",
        "results_time = []\n",
        "\n",
        "for i in range(12): #Move from 13 to 12 for google collab limitations\n",
        "    poly = PolynomialFeatures(degree=i+1)\n",
        "    \n",
        "    start = time.time()\n",
        "    polyX = poly.fit_transform(X)\n",
        "    end = time.time()\n",
        "\n",
        "    results_degrees.append(i+1)\n",
        "    results_time.append(end-start)\n",
        "\n",
        "    print(\"{} \\t Num features {:10d} Time {:2.4f}s\".format(i+1, polyX.shape[1], end-start))\n"
      ]
    },
    {
      "cell_type": "code",
      "execution_count": null,
      "metadata": {
        "colab": {
          "base_uri": "https://localhost:8080/",
          "height": 265
        },
        "id": "6fieQnolr8vv",
        "outputId": "0d7c1c94-04b5-43f1-cb60-e5f1aaec9246"
      },
      "outputs": [
        {
          "output_type": "display_data",
          "data": {
            "text/plain": [
              "<Figure size 432x288 with 1 Axes>"
            ],
            "image/png": "[encoded data removed]"
          },
          "metadata": {
            "needs_background": "light"
          }
        }
      ],
      "source": [
        "import matplotlib.pyplot as plt\n",
        "\n",
        "plt.plot(results_degrees, results_time)\n",
        "plt.show()"
      ]
    }
  ],
  "metadata": {
    "kernelspec": {
      "display_name": "Python 3.9.13 64-bit",
      "language": "python",
      "name": "python3"
    },
    "language_info": {
      "codemirror_mode": {
        "name": "ipython",
        "version": 3
      },
      "file_extension": ".py",
      "mimetype": "text/x-python",
      "name": "python",
      "nbconvert_exporter": "python",
      "pygments_lexer": "ipython3",
      "version": "3.9.13"
    },
    "orig_nbformat": 4,
    "vscode": {
      "interpreter": {
        "hash": "397704579725e15f5c7cb49fe5f0341eb7531c82d19f2c29d197e8b64ab5776b"
      }
    },
    "colab": {
      "provenance": [],
      "include_colab_link": true
    }
  },
  "nbformat": 4,
  "nbformat_minor": 0
}